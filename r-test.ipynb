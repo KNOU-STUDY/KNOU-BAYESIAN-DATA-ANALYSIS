{
 "cells": [
  {
   "cell_type": "code",
   "id": "3c435301-61a8-4940-8670-83897c5c421c",
   "metadata": {
    "ExecuteTime": {
     "end_time": "2024-10-05T10:02:38.254354Z",
     "start_time": "2024-10-05T10:02:38.235575Z"
    }
   },
   "source": "10+ 5",
   "outputs": [
    {
     "data": {
      "text/html": [
       "15"
      ],
      "text/markdown": "15",
      "text/latex": "15",
      "text/plain": [
       "[1] 15"
      ]
     },
     "metadata": {},
     "output_type": "display_data"
    }
   ],
   "execution_count": 1
  },
  {
   "cell_type": "code",
   "execution_count": 2,
   "id": "2d22ab39-7a4b-4b95-bd71-0934bdf6954f",
   "metadata": {},
   "outputs": [
    {
     "data": {
      "text/html": [
       "'C:/Users/justk/knout-bayesian'"
      ],
      "text/latex": [
       "'C:/Users/justk/knout-bayesian'"
      ],
      "text/markdown": [
       "'C:/Users/justk/knout-bayesian'"
      ],
      "text/plain": [
       "[1] \"C:/Users/justk/knout-bayesian\""
      ]
     },
     "metadata": {},
     "output_type": "display_data"
    }
   ],
   "source": [
    "getwd()"
   ]
  },
  {
   "cell_type": "code",
   "execution_count": 3,
   "id": "b8fad793-ba5c-45f1-b194-8f5de9586b44",
   "metadata": {},
   "outputs": [
    {
     "data": {
      "text/html": [
       "'C:/Users/justk/miniconda3/lib/R'"
      ],
      "text/latex": [
       "'C:/Users/justk/miniconda3/lib/R'"
      ],
      "text/markdown": [
       "'C:/Users/justk/miniconda3/lib/R'"
      ],
      "text/plain": [
       "[1] \"C:/Users/justk/miniconda3/lib/R\""
      ]
     },
     "metadata": {},
     "output_type": "display_data"
    }
   ],
   "source": [
    "R.home()"
   ]
  },
  {
   "cell_type": "code",
   "execution_count": null,
   "id": "2c6ef30c-960c-4b32-a6e8-d26eed3a1a3f",
   "metadata": {},
   "outputs": [],
   "source": []
  }
 ],
 "metadata": {
  "kernelspec": {
   "display_name": "R",
   "language": "R",
   "name": "ir"
  },
  "language_info": {
   "codemirror_mode": "r",
   "file_extension": ".r",
   "mimetype": "text/x-r-source",
   "name": "R",
   "pygments_lexer": "r",
   "version": "3.6.1"
  }
 },
 "nbformat": 4,
 "nbformat_minor": 5
}
