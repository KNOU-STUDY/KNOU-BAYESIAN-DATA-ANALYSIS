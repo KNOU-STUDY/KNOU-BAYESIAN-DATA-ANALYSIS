{
 "cells": [
  {
   "cell_type": "code",
   "id": "719dd0fd-f6d1-4c69-bd13-de54147a5e44",
   "metadata": {
    "ExecuteTime": {
     "end_time": "2024-10-05T20:20:21.676696Z",
     "start_time": "2024-10-05T20:20:21.664694Z"
    }
   },
   "source": "# 사후분포의 밀도함수를 그리고, 위의 값들을 사후분포 밀도함수 위에 그리시오.",
   "outputs": [
    {
     "name": "stderr",
     "output_type": "stream",
     "text": [
      "Your code contains a unicode char which cannot be displayed in your\n",
      "current locale and R will silently convert it to an escaped form when the\n",
      "R kernel executes this code. This can lead to subtle errors if you use\n",
      "such chars to do comparisons. For more information, please see\n",
      "https://github.com/IRkernel/repr/wiki/Problems-with-unicode-on-windows"
     ]
    }
   ],
   "execution_count": 1
  },
  {
   "metadata": {},
   "cell_type": "markdown",
   "source": "![조건](./img/question.png)",
   "id": "e95b1c39c1ac382"
  },
  {
   "metadata": {
    "ExecuteTime": {
     "end_time": "2024-10-05T20:20:21.792214Z",
     "start_time": "2024-10-05T20:20:21.745210Z"
    }
   },
   "cell_type": "code",
   "source": [
    "alpha <- 1\n",
    "beta <- 1\n",
    "n <- 10\n",
    "x <- 3"
   ],
   "id": "9853a518db2c8b75",
   "outputs": [],
   "execution_count": 2
  },
  {
   "metadata": {
    "ExecuteTime": {
     "end_time": "2024-10-05T20:20:21.804219Z",
     "start_time": "2024-10-05T20:20:21.794219Z"
    }
   },
   "cell_type": "code",
   "source": [
    "theta <- seq(from = 0, to = 1, length = 100)\n",
    "prior.den <- dbeta(theta, alpha, beta)\n",
    "post.den <- dbeta(theta, alpha + x, beta + n | -x)\n",
    "likelihood <- dbinom(x, size = n, prob = theta)\n",
    "likelihood <- 100 * likelihood / sum(likelihood)"
   ],
   "id": "7b3f46cdc7aefd17",
   "outputs": [],
   "execution_count": 3
  },
  {
   "metadata": {
    "ExecuteTime": {
     "end_time": "2024-10-05T20:20:21.928263Z",
     "start_time": "2024-10-05T20:20:21.912753Z"
    }
   },
   "cell_type": "code",
   "source": [
    "post.summary <- numeric(6)\n",
    "names(post.summary) <- c(\"post mean\", \"post median\", \"MAP\", \"post sd\", \"2.5%\", \"97.5%\")\n",
    "post.summary['post mean'] <- (alpha + x) / (alpha + beta + n)\n",
    "post.summary['post median'] <- qbeta(0.5, alpha + x, beta + n - x)\n",
    "post.summary['MAP'] <- (alpha + x - 1) / (alpha + beta + n - 2)\n",
    "post.summary['post sd'] <- sqrt((alpha + x) * (beta + n - x) / ((alpha + beta + n)^2 * (alpha + beta + n + 1)))\n",
    "post.summary['2.5%'] <- qbeta(0.025, alpha + x, beta + n - x)\n",
    "post.summary['97.5%'] <- qbeta(0.975, alpha + x, beta + n - x)"
   ],
   "id": "1b697f1e18cfd41a",
   "outputs": [],
   "execution_count": 4
  },
  {
   "metadata": {
    "ExecuteTime": {
     "end_time": "2024-10-05T20:20:22.184569Z",
     "start_time": "2024-10-05T20:20:22.171717Z"
    }
   },
   "cell_type": "code",
   "source": "post.summary",
   "id": "dfe68f3bf6ddf29a",
   "outputs": [
    {
     "data": {
      "text/html": [
       "<dl class=dl-horizontal>\n",
       "\t<dt>post mean</dt>\n",
       "\t\t<dd>0.333333333333333</dd>\n",
       "\t<dt>post median</dt>\n",
       "\t\t<dd>0.323804462585187</dd>\n",
       "\t<dt>MAP</dt>\n",
       "\t\t<dd>0.3</dd>\n",
       "\t<dt>post sd</dt>\n",
       "\t\t<dd>0.130744090092123</dd>\n",
       "\t<dt>2.5%</dt>\n",
       "\t\t<dd>0.109263443819098</dd>\n",
       "\t<dt>97.5%</dt>\n",
       "\t\t<dd>0.609742559572421</dd>\n",
       "</dl>\n"
      ],
      "text/markdown": "post mean\n:   0.333333333333333post median\n:   0.323804462585187MAP\n:   0.3post sd\n:   0.1307440900921232.5%\n:   0.10926344381909897.5%\n:   0.609742559572421\n\n",
      "text/latex": "\\begin{description*}\n\\item[post mean] 0.333333333333333\n\\item[post median] 0.323804462585187\n\\item[MAP] 0.3\n\\item[post sd] 0.130744090092123\n\\item[2.5\\textbackslash{}\\%] 0.109263443819098\n\\item[97.5\\textbackslash{}\\%] 0.609742559572421\n\\end{description*}\n",
      "text/plain": [
       "  post mean post median         MAP     post sd        2.5%       97.5% \n",
       "  0.3333333   0.3238045   0.3000000   0.1307441   0.1092634   0.6097426 "
      ]
     },
     "metadata": {},
     "output_type": "display_data"
    }
   ],
   "execution_count": 5
  },
  {
   "metadata": {
    "ExecuteTime": {
     "end_time": "2024-10-05T20:20:22.455652Z",
     "start_time": "2024-10-05T20:20:22.436635Z"
    }
   },
   "cell_type": "code",
   "source": [
    "xpts1 <- seq(f = post.summary['2.5%'], t = post.summary['97.5%'], len = 100)\n",
    "t(xpts1)\n",
    "length(xpts1)"
   ],
   "id": "92924185101a258b",
   "outputs": [
    {
     "data": {
      "text/html": [
       "<table>\n",
       "<tbody>\n",
       "\t<tr><td>0.1092634</td><td>0.1143188</td><td>0.1193741</td><td>0.1244295</td><td>0.1294848</td><td>0.1345402</td><td>0.1395955</td><td>0.1446509</td><td>0.1497062</td><td>0.1547615</td><td>...      </td><td>0.5642445</td><td>0.5692998</td><td>0.5743551</td><td>0.5794105</td><td>0.5844658</td><td>0.5895212</td><td>0.5945765</td><td>0.5996319</td><td>0.6046872</td><td>0.6097426</td></tr>\n",
       "</tbody>\n",
       "</table>\n"
      ],
      "text/markdown": "\n| 0.1092634 | 0.1143188 | 0.1193741 | 0.1244295 | 0.1294848 | 0.1345402 | 0.1395955 | 0.1446509 | 0.1497062 | 0.1547615 | ...       | 0.5642445 | 0.5692998 | 0.5743551 | 0.5794105 | 0.5844658 | 0.5895212 | 0.5945765 | 0.5996319 | 0.6046872 | 0.6097426 |\n\n",
      "text/latex": "\\begin{tabular}{llllllllllllllllllllllllllllllllllllllllllllllllllllllllllllllllllllllllllllllllllllllllllllllllllll}\n\t 0.1092634 & 0.1143188 & 0.1193741 & 0.1244295 & 0.1294848 & 0.1345402 & 0.1395955 & 0.1446509 & 0.1497062 & 0.1547615 & ...       & 0.5642445 & 0.5692998 & 0.5743551 & 0.5794105 & 0.5844658 & 0.5895212 & 0.5945765 & 0.5996319 & 0.6046872 & 0.6097426\\\\\n\\end{tabular}\n",
      "text/plain": [
       "     [,1]      [,2]      [,3]      [,4]      [,5]      [,6]      [,7]     \n",
       "[1,] 0.1092634 0.1143188 0.1193741 0.1244295 0.1294848 0.1345402 0.1395955\n",
       "     [,8]      [,9]      [,10]     [,11] [,12]     [,13]     [,14]    \n",
       "[1,] 0.1446509 0.1497062 0.1547615 ...   0.5642445 0.5692998 0.5743551\n",
       "     [,15]     [,16]     [,17]     [,18]     [,19]     [,20]     [,21]    \n",
       "[1,] 0.5794105 0.5844658 0.5895212 0.5945765 0.5996319 0.6046872 0.6097426"
      ]
     },
     "metadata": {},
     "output_type": "display_data"
    },
    {
     "data": {
      "text/html": [
       "100"
      ],
      "text/markdown": "100",
      "text/latex": "100",
      "text/plain": [
       "[1] 100"
      ]
     },
     "metadata": {},
     "output_type": "display_data"
    }
   ],
   "execution_count": 6
  },
  {
   "metadata": {
    "ExecuteTime": {
     "end_time": "2024-10-05T20:20:22.670602Z",
     "start_time": "2024-10-05T20:20:22.652893Z"
    }
   },
   "cell_type": "code",
   "source": [
    "xpts <- c(xpts1, xpts1[100:1])\n",
    "t(xpts)\n",
    "length(xpts)"
   ],
   "id": "e0ec73d9acb6d06f",
   "outputs": [
    {
     "data": {
      "text/html": [
       "<table>\n",
       "<tbody>\n",
       "\t<tr><td>0.1092634</td><td>0.1143188</td><td>0.1193741</td><td>0.1244295</td><td>0.1294848</td><td>0.1345402</td><td>0.1395955</td><td>0.1446509</td><td>0.1497062</td><td>0.1547615</td><td>...      </td><td>0.1547615</td><td>0.1497062</td><td>0.1446509</td><td>0.1395955</td><td>0.1345402</td><td>0.1294848</td><td>0.1244295</td><td>0.1193741</td><td>0.1143188</td><td>0.1092634</td></tr>\n",
       "</tbody>\n",
       "</table>\n"
      ],
      "text/markdown": "\n| 0.1092634 | 0.1143188 | 0.1193741 | 0.1244295 | 0.1294848 | 0.1345402 | 0.1395955 | 0.1446509 | 0.1497062 | 0.1547615 | ...       | 0.1547615 | 0.1497062 | 0.1446509 | 0.1395955 | 0.1345402 | 0.1294848 | 0.1244295 | 0.1193741 | 0.1143188 | 0.1092634 |\n\n",
      "text/latex": "\\begin{tabular}{llllllllllllllllllllllllllllllllllllllllllllllllllllllllllllllllllllllllllllllllllllllllllllllllllllllllllllllllllllllllllllllllllllllllllllllllllllllllllllllllllllllllllllllllllllllllllllllllllllllll}\n\t 0.1092634 & 0.1143188 & 0.1193741 & 0.1244295 & 0.1294848 & 0.1345402 & 0.1395955 & 0.1446509 & 0.1497062 & 0.1547615 & ...       & 0.1547615 & 0.1497062 & 0.1446509 & 0.1395955 & 0.1345402 & 0.1294848 & 0.1244295 & 0.1193741 & 0.1143188 & 0.1092634\\\\\n\\end{tabular}\n",
      "text/plain": [
       "     [,1]      [,2]      [,3]      [,4]      [,5]      [,6]      [,7]     \n",
       "[1,] 0.1092634 0.1143188 0.1193741 0.1244295 0.1294848 0.1345402 0.1395955\n",
       "     [,8]      [,9]      [,10]     [,11] [,12]     [,13]     [,14]    \n",
       "[1,] 0.1446509 0.1497062 0.1547615 ...   0.1547615 0.1497062 0.1446509\n",
       "     [,15]     [,16]     [,17]     [,18]     [,19]     [,20]     [,21]    \n",
       "[1,] 0.1395955 0.1345402 0.1294848 0.1244295 0.1193741 0.1143188 0.1092634"
      ]
     },
     "metadata": {},
     "output_type": "display_data"
    },
    {
     "data": {
      "text/html": [
       "200"
      ],
      "text/markdown": "200",
      "text/latex": "200",
      "text/plain": [
       "[1] 200"
      ]
     },
     "metadata": {},
     "output_type": "display_data"
    }
   ],
   "execution_count": 7
  },
  {
   "metadata": {
    "ExecuteTime": {
     "end_time": "2024-10-05T20:20:22.961592Z",
     "start_time": "2024-10-05T20:20:22.951082Z"
    }
   },
   "cell_type": "code",
   "source": "t(100:1)",
   "id": "2007631e081b5b34",
   "outputs": [
    {
     "data": {
      "text/html": [
       "<table>\n",
       "<tbody>\n",
       "\t<tr><td>100</td><td>99 </td><td>98 </td><td>97 </td><td>96 </td><td>95 </td><td>94 </td><td>93 </td><td>92 </td><td>91 </td><td>...</td><td>10 </td><td>9  </td><td>8  </td><td>7  </td><td>6  </td><td>5  </td><td>4  </td><td>3  </td><td>2  </td><td>1  </td></tr>\n",
       "</tbody>\n",
       "</table>\n"
      ],
      "text/markdown": "\n| 100 | 99  | 98  | 97  | 96  | 95  | 94  | 93  | 92  | 91  | ... | 10  | 9   | 8   | 7   | 6   | 5   | 4   | 3   | 2   | 1   |\n\n",
      "text/latex": "\\begin{tabular}{llllllllllllllllllllllllllllllllllllllllllllllllllllllllllllllllllllllllllllllllllllllllllllllllllll}\n\t 100 & 99  & 98  & 97  & 96  & 95  & 94  & 93  & 92  & 91  & ... & 10  & 9   & 8   & 7   & 6   & 5   & 4   & 3   & 2   & 1  \\\\\n\\end{tabular}\n",
      "text/plain": [
       "     [,1] [,2] [,3] [,4] [,5] [,6] [,7] [,8] [,9] [,10] [,11] [,12] [,13] [,14]\n",
       "[1,] 100  99   98   97   96   95   94   93   92   91    ...   10    9     8    \n",
       "     [,15] [,16] [,17] [,18] [,19] [,20] [,21]\n",
       "[1,] 7     6     5     4     3     2     1    "
      ]
     },
     "metadata": {},
     "output_type": "display_data"
    }
   ],
   "execution_count": 8
  },
  {
   "metadata": {
    "ExecuteTime": {
     "end_time": "2024-10-05T20:20:23.244149Z",
     "start_time": "2024-10-05T20:20:23.231092Z"
    }
   },
   "cell_type": "code",
   "source": [
    "ypts1 <- dbeta(xpts1, alpha + x, beta + n - x)\n",
    "t(ypts1)\n",
    "length(ypts1)"
   ],
   "id": "a147617ba9cef720",
   "outputs": [
    {
     "data": {
      "text/html": [
       "<table>\n",
       "<tbody>\n",
       "\t<tr><td>0.766026 </td><td>0.84308  </td><td>0.9222416</td><td>1.003187 </td><td>1.085588 </td><td>1.169118 </td><td>1.25345  </td><td>1.338261 </td><td>1.423234 </td><td>1.508057 </td><td>...      </td><td>0.7074183</td><td>0.6696109</td><td>0.6330634</td><td>0.5977809</td><td>0.5637655</td><td>0.5310158</td><td>0.4995275</td><td>0.4692935</td><td>0.4403037</td><td>0.4125455</td></tr>\n",
       "</tbody>\n",
       "</table>\n"
      ],
      "text/markdown": "\n| 0.766026  | 0.84308   | 0.9222416 | 1.003187  | 1.085588  | 1.169118  | 1.25345   | 1.338261  | 1.423234  | 1.508057  | ...       | 0.7074183 | 0.6696109 | 0.6330634 | 0.5977809 | 0.5637655 | 0.5310158 | 0.4995275 | 0.4692935 | 0.4403037 | 0.4125455 |\n\n",
      "text/latex": "\\begin{tabular}{llllllllllllllllllllllllllllllllllllllllllllllllllllllllllllllllllllllllllllllllllllllllllllllllllll}\n\t 0.766026  & 0.84308   & 0.9222416 & 1.003187  & 1.085588  & 1.169118  & 1.25345   & 1.338261  & 1.423234  & 1.508057  & ...       & 0.7074183 & 0.6696109 & 0.6330634 & 0.5977809 & 0.5637655 & 0.5310158 & 0.4995275 & 0.4692935 & 0.4403037 & 0.4125455\\\\\n\\end{tabular}\n",
      "text/plain": [
       "     [,1]     [,2]    [,3]      [,4]     [,5]     [,6]     [,7]    [,8]    \n",
       "[1,] 0.766026 0.84308 0.9222416 1.003187 1.085588 1.169118 1.25345 1.338261\n",
       "     [,9]     [,10]    [,11] [,12]     [,13]     [,14]     [,15]     [,16]    \n",
       "[1,] 1.423234 1.508057 ...   0.7074183 0.6696109 0.6330634 0.5977809 0.5637655\n",
       "     [,17]     [,18]     [,19]     [,20]     [,21]    \n",
       "[1,] 0.5310158 0.4995275 0.4692935 0.4403037 0.4125455"
      ]
     },
     "metadata": {},
     "output_type": "display_data"
    },
    {
     "data": {
      "text/html": [
       "100"
      ],
      "text/markdown": "100",
      "text/latex": "100",
      "text/plain": [
       "[1] 100"
      ]
     },
     "metadata": {},
     "output_type": "display_data"
    }
   ],
   "execution_count": 9
  },
  {
   "metadata": {
    "ExecuteTime": {
     "end_time": "2024-10-05T20:20:23.475325Z",
     "start_time": "2024-10-05T20:20:23.461812Z"
    }
   },
   "cell_type": "code",
   "source": [
    "ypts <- c(ypts1, xpts1[100:1])\n",
    "t(ypts)\n",
    "length(ypts)"
   ],
   "id": "a2bce07850b315d5",
   "outputs": [
    {
     "data": {
      "text/html": [
       "<table>\n",
       "<tbody>\n",
       "\t<tr><td>0.766026 </td><td>0.84308  </td><td>0.9222416</td><td>1.003187 </td><td>1.085588 </td><td>1.169118 </td><td>1.25345  </td><td>1.338261 </td><td>1.423234 </td><td>1.508057 </td><td>...      </td><td>0.1547615</td><td>0.1497062</td><td>0.1446509</td><td>0.1395955</td><td>0.1345402</td><td>0.1294848</td><td>0.1244295</td><td>0.1193741</td><td>0.1143188</td><td>0.1092634</td></tr>\n",
       "</tbody>\n",
       "</table>\n"
      ],
      "text/markdown": "\n| 0.766026  | 0.84308   | 0.9222416 | 1.003187  | 1.085588  | 1.169118  | 1.25345   | 1.338261  | 1.423234  | 1.508057  | ...       | 0.1547615 | 0.1497062 | 0.1446509 | 0.1395955 | 0.1345402 | 0.1294848 | 0.1244295 | 0.1193741 | 0.1143188 | 0.1092634 |\n\n",
      "text/latex": "\\begin{tabular}{llllllllllllllllllllllllllllllllllllllllllllllllllllllllllllllllllllllllllllllllllllllllllllllllllllllllllllllllllllllllllllllllllllllllllllllllllllllllllllllllllllllllllllllllllllllllllllllllllllllll}\n\t 0.766026  & 0.84308   & 0.9222416 & 1.003187  & 1.085588  & 1.169118  & 1.25345   & 1.338261  & 1.423234  & 1.508057  & ...       & 0.1547615 & 0.1497062 & 0.1446509 & 0.1395955 & 0.1345402 & 0.1294848 & 0.1244295 & 0.1193741 & 0.1143188 & 0.1092634\\\\\n\\end{tabular}\n",
      "text/plain": [
       "     [,1]     [,2]    [,3]      [,4]     [,5]     [,6]     [,7]    [,8]    \n",
       "[1,] 0.766026 0.84308 0.9222416 1.003187 1.085588 1.169118 1.25345 1.338261\n",
       "     [,9]     [,10]    [,11] [,12]     [,13]     [,14]     [,15]     [,16]    \n",
       "[1,] 1.423234 1.508057 ...   0.1547615 0.1497062 0.1446509 0.1395955 0.1345402\n",
       "     [,17]     [,18]     [,19]     [,20]     [,21]    \n",
       "[1,] 0.1294848 0.1244295 0.1193741 0.1143188 0.1092634"
      ]
     },
     "metadata": {},
     "output_type": "display_data"
    },
    {
     "data": {
      "text/html": [
       "200"
      ],
      "text/markdown": "200",
      "text/latex": "200",
      "text/plain": [
       "[1] 200"
      ]
     },
     "metadata": {},
     "output_type": "display_data"
    }
   ],
   "execution_count": 10
  },
  {
   "metadata": {
    "ExecuteTime": {
     "end_time": "2024-10-05T20:20:23.736303Z",
     "start_time": "2024-10-05T20:20:23.726255Z"
    }
   },
   "cell_type": "code",
   "source": [
    "ymax <- max(prior.den, likelihood, post.den)\n",
    "ymax"
   ],
   "id": "467a98ac4664df6d",
   "outputs": [
    {
     "data": {
      "text/html": [
       "4"
      ],
      "text/markdown": "4",
      "text/latex": "4",
      "text/plain": [
       "[1] 4"
      ]
     },
     "metadata": {},
     "output_type": "display_data"
    }
   ],
   "execution_count": 11
  },
  {
   "metadata": {
    "ExecuteTime": {
     "end_time": "2024-10-05T20:20:24.164144Z",
     "start_time": "2024-10-05T20:20:24.137128Z"
    }
   },
   "cell_type": "code",
   "source": "plot(theta, post.den, type = 'l', ylab = 'density', ylim = c(0, ymax))",
   "id": "fa87273c11185fe9",
   "outputs": [
    {
     "data": {
      "text/plain": [
       "plot without title"
      ],
      "image/png": "[encoded data removed]"
     },
     "metadata": {},
     "output_type": "display_data"
    }
   ],
   "execution_count": 12
  },
  {
   "metadata": {
    "ExecuteTime": {
     "end_time": "2024-10-05T20:20:25.537162Z",
     "start_time": "2024-10-05T20:20:25.505136Z"
    }
   },
   "cell_type": "code",
   "source": [
    "plot(theta, post.den, type = 'l', ylab = 'density', ylim = c(0, ymax))\n",
    "polygon(x = xpts, y = ypts, col = 'cyan4', border = NA, fillOddEven = TRUE)"
   ],
   "id": "56dadd6d18a36869",
   "outputs": [
    {
     "data": {
      "text/plain": [
       "plot without title"
      ],
      "image/png": "[encoded data removed]"
     },
     "metadata": {},
     "output_type": "display_data"
    }
   ],
   "execution_count": 13
  },
  {
   "metadata": {
    "ExecuteTime": {
     "end_time": "2024-10-05T20:20:26.159310Z",
     "start_time": "2024-10-05T20:20:26.125310Z"
    }
   },
   "cell_type": "code",
   "source": [
    "plot(theta, post.den, type = 'l', ylab = 'density', ylim = c(0, ymax))\n",
    "polygon(x = xpts, y = ypts, col = 'cyan4', border = NA, fillOddEven = TRUE)\n",
    "lines(x = rep(post.summary['post mean'], 2), y = c(0, dbeta(post.summary['post mean'], alpha + x, beta + n - x)), col = 'magenta')\n",
    "lines(x = rep(post.summary['post median'], 2), y = c(0, dbeta(post.summary['post median'], alpha + x, beta + n - x)), col = 'magenta4')\n",
    "lines(x = rep(post.summary['MAP'], 2), y = c(0, dbeta(post.summary['MAP'], alpha + x, beta + n - x)), col = 'maroon')\n",
    "legend(0.5, 2.8, c('posterior mean', 'posterior median', 'MAP', '95% credible interval'), lty = c(1, 1, 1, 1), lwd = c(2.5, 2.5, 2.5, 2.5), col = c('magenta','magenta4','maroon','cyan4'))"
   ],
   "id": "b5d6678dcb02a632",
   "outputs": [
    {
     "data": {
      "text/plain": [
       "plot without title"
      ],
      "image/png": "[encoded data removed]"
     },
     "metadata": {},
     "output_type": "display_data"
    }
   ],
   "execution_count": 14
  },
  {
   "metadata": {
    "ExecuteTime": {
     "end_time": "2024-10-05T20:20:12.104389Z",
     "start_time": "2024-10-05T20:20:12.096369Z"
    }
   },
   "cell_type": "code",
   "source": "",
   "id": "ef6d3a5019b5ca78",
   "outputs": [],
   "execution_count": null
  }
 ],
 "metadata": {
  "kernelspec": {
   "display_name": "R",
   "language": "R",
   "name": "ir"
  },
  "language_info": {
   "codemirror_mode": "r",
   "file_extension": ".r",
   "mimetype": "text/x-r-source",
   "name": "R",
   "pygments_lexer": "r",
   "version": "3.6.1"
  }
 },
 "nbformat": 4,
 "nbformat_minor": 5
}
