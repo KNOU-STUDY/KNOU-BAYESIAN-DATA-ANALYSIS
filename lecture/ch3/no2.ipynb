{
 "cells": [
  {
   "cell_type": "code",
   "execution_count": 1,
   "id": "initial_id",
   "metadata": {
    "ExecuteTime": {
     "end_time": "2024-10-05T13:55:35.653373Z",
     "start_time": "2024-10-05T13:55:35.639860Z"
    }
   },
   "outputs": [
    {
     "name": "stderr",
     "output_type": "stream",
     "text": [
      "Your code contains a unicode char which cannot be displayed in your\n",
      "current locale and R will silently convert it to an escaped form when the\n",
      "R kernel executes this code. This can lead to subtle errors if you use\n",
      "such chars to do comparisons. For more information, please see\n",
      "https://github.com/IRkernel/repr/wiki/Problems-with-unicode-on-windows"
     ]
    }
   ],
   "source": [
    "# 사전분포와 모형의 파리미터와 관측치"
   ]
  },
  {
   "cell_type": "code",
   "execution_count": 2,
   "id": "5a9ed5d5d062926",
   "metadata": {
    "ExecuteTime": {
     "end_time": "2024-10-05T13:55:35.770344Z",
     "start_time": "2024-10-05T13:55:35.720227Z"
    }
   },
   "outputs": [],
   "source": [
    "alpha <- 1\n",
    "beta <- 1\n",
    "n <- 10\n",
    "x <- 3"
   ]
  },
  {
   "cell_type": "code",
   "execution_count": 3,
   "id": "40b2cfce206f47af",
   "metadata": {
    "ExecuteTime": {
     "end_time": "2024-10-05T13:55:35.791497Z",
     "start_time": "2024-10-05T13:55:35.776416Z"
    }
   },
   "outputs": [
    {
     "data": {
      "text/html": [
       "<table>\n",
       "<tbody>\n",
       "\t<tr><td>0         </td><td>0.01010101</td><td>0.02020202</td><td>0.03030303</td><td>0.04040404</td><td>0.05050505</td><td>0.06060606</td><td>0.07070707</td><td>0.08080808</td><td>0.09090909</td><td>...       </td><td>0.9090909 </td><td>0.9191919 </td><td>0.9292929 </td><td>0.9393939 </td><td>0.9494949 </td><td>0.959596  </td><td>0.969697  </td><td>0.979798  </td><td>0.989899  </td><td>1         </td></tr>\n",
       "</tbody>\n",
       "</table>\n"
      ],
      "text/latex": [
       "\\begin{tabular}{llllllllllllllllllllllllllllllllllllllllllllllllllllllllllllllllllllllllllllllllllllllllllllllllllll}\n",
       "\t 0          & 0.01010101 & 0.02020202 & 0.03030303 & 0.04040404 & 0.05050505 & 0.06060606 & 0.07070707 & 0.08080808 & 0.09090909 & ...        & 0.9090909  & 0.9191919  & 0.9292929  & 0.9393939  & 0.9494949  & 0.959596   & 0.969697   & 0.979798   & 0.989899   & 1         \\\\\n",
       "\\end{tabular}\n"
      ],
      "text/markdown": [
       "\n",
       "| 0          | 0.01010101 | 0.02020202 | 0.03030303 | 0.04040404 | 0.05050505 | 0.06060606 | 0.07070707 | 0.08080808 | 0.09090909 | ...        | 0.9090909  | 0.9191919  | 0.9292929  | 0.9393939  | 0.9494949  | 0.959596   | 0.969697   | 0.979798   | 0.989899   | 1          |\n",
       "\n"
      ],
      "text/plain": [
       "     [,1] [,2]       [,3]       [,4]       [,5]       [,6]       [,7]      \n",
       "[1,] 0    0.01010101 0.02020202 0.03030303 0.04040404 0.05050505 0.06060606\n",
       "     [,8]       [,9]       [,10]      [,11] [,12]     [,13]     [,14]    \n",
       "[1,] 0.07070707 0.08080808 0.09090909 ...   0.9090909 0.9191919 0.9292929\n",
       "     [,15]     [,16]     [,17]    [,18]    [,19]    [,20]    [,21]\n",
       "[1,] 0.9393939 0.9494949 0.959596 0.969697 0.979798 0.989899 1    "
      ]
     },
     "metadata": {},
     "output_type": "display_data"
    }
   ],
   "source": [
    "theta <- seq(0, 1, len = 100)\n",
    "t(theta)"
   ]
  },
  {
   "cell_type": "code",
   "execution_count": 4,
   "id": "bc2b3c9192afb22",
   "metadata": {
    "ExecuteTime": {
     "end_time": "2024-10-05T13:55:35.809220Z",
     "start_time": "2024-10-05T13:55:35.799509Z"
    }
   },
   "outputs": [
    {
     "name": "stderr",
     "output_type": "stream",
     "text": [
      "Your code contains a unicode char which cannot be displayed in your\n",
      "current locale and R will silently convert it to an escaped form when the\n",
      "R kernel executes this code. This can lead to subtle errors if you use\n",
      "such chars to do comparisons. For more information, please see\n",
      "https://github.com/IRkernel/repr/wiki/Problems-with-unicode-on-windows"
     ]
    }
   ],
   "source": [
    "#사전분포, 사후분포, 가능도를 벡터로 계산"
   ]
  },
  {
   "cell_type": "code",
   "execution_count": 5,
   "id": "7a6029c3c6bbe099",
   "metadata": {
    "ExecuteTime": {
     "end_time": "2024-10-05T13:55:35.941726Z",
     "start_time": "2024-10-05T13:55:35.919439Z"
    }
   },
   "outputs": [
    {
     "name": "stderr",
     "output_type": "stream",
     "text": [
      "Your code contains a unicode char which cannot be displayed in your\n",
      "current locale and R will silently convert it to an escaped form when the\n",
      "R kernel executes this code. This can lead to subtle errors if you use\n",
      "such chars to do comparisons. For more information, please see\n",
      "https://github.com/IRkernel/repr/wiki/Problems-with-unicode-on-windows"
     ]
    },
    {
     "data": {
      "text/html": [
       "<table>\n",
       "<tbody>\n",
       "\t<tr><td>1  </td><td>1  </td><td>1  </td><td>1  </td><td>1  </td><td>1  </td><td>1  </td><td>1  </td><td>1  </td><td>1  </td><td>...</td><td>1  </td><td>1  </td><td>1  </td><td>1  </td><td>1  </td><td>1  </td><td>1  </td><td>1  </td><td>1  </td><td>1  </td></tr>\n",
       "</tbody>\n",
       "</table>\n"
      ],
      "text/latex": [
       "\\begin{tabular}{llllllllllllllllllllllllllllllllllllllllllllllllllllllllllllllllllllllllllllllllllllllllllllllllllll}\n",
       "\t 1   & 1   & 1   & 1   & 1   & 1   & 1   & 1   & 1   & 1   & ... & 1   & 1   & 1   & 1   & 1   & 1   & 1   & 1   & 1   & 1  \\\\\n",
       "\\end{tabular}\n"
      ],
      "text/markdown": [
       "\n",
       "| 1   | 1   | 1   | 1   | 1   | 1   | 1   | 1   | 1   | 1   | ... | 1   | 1   | 1   | 1   | 1   | 1   | 1   | 1   | 1   | 1   |\n",
       "\n"
      ],
      "text/plain": [
       "     [,1] [,2] [,3] [,4] [,5] [,6] [,7] [,8] [,9] [,10] [,11] [,12] [,13] [,14]\n",
       "[1,] 1    1    1    1    1    1    1    1    1    1     ...   1     1     1    \n",
       "     [,15] [,16] [,17] [,18] [,19] [,20] [,21]\n",
       "[1,] 1     1     1     1     1     1     1    "
      ]
     },
     "metadata": {},
     "output_type": "display_data"
    }
   ],
   "source": [
    "prior.den <- dbeta(theta, alpha, beta)\n",
    "t(prior.den)\n",
    "#dbeta는 beta분포임, 사전분포"
   ]
  },
  {
   "cell_type": "markdown",
   "id": "7329df04630de143",
   "metadata": {},
   "source": [
    "![문제 1](./img/question.png)"
   ]
  },
  {
   "cell_type": "code",
   "execution_count": 6,
   "id": "ad655738c1b2f21c",
   "metadata": {
    "ExecuteTime": {
     "end_time": "2024-10-05T13:55:36.801766Z",
     "start_time": "2024-10-05T13:55:36.785805Z"
    }
   },
   "outputs": [
    {
     "name": "stderr",
     "output_type": "stream",
     "text": [
      "Your code contains a unicode char which cannot be displayed in your\n",
      "current locale and R will silently convert it to an escaped form when the\n",
      "R kernel executes this code. This can lead to subtle errors if you use\n",
      "such chars to do comparisons. For more information, please see\n",
      "https://github.com/IRkernel/repr/wiki/Problems-with-unicode-on-windows"
     ]
    },
    {
     "data": {
      "text/html": [
       "<table>\n",
       "<tbody>\n",
       "\t<tr><td>0           </td><td>0.001267081 </td><td>0.009434396 </td><td>0.02961313  </td><td>0.06523298  </td><td>0.1183115   </td><td>0.1896952   </td><td>0.2792743   </td><td>0.3861728   </td><td>0.5089171   </td><td>...         </td><td>5.089171e-05</td><td>2.30662e-05 </td><td>9.359912e-06</td><td>3.286469e-06</td><td>9.470994e-07</td><td>2.050278e-07</td><td>2.824129e-08</td><td>1.705089e-09</td><td>1.373726e-11</td><td>0           </td></tr>\n",
       "</tbody>\n",
       "</table>\n"
      ],
      "text/latex": [
       "\\begin{tabular}{llllllllllllllllllllllllllllllllllllllllllllllllllllllllllllllllllllllllllllllllllllllllllllllllllll}\n",
       "\t 0            & 0.001267081  & 0.009434396  & 0.02961313   & 0.06523298   & 0.1183115    & 0.1896952    & 0.2792743    & 0.3861728    & 0.5089171    & ...          & 5.089171e-05 & 2.30662e-05  & 9.359912e-06 & 3.286469e-06 & 9.470994e-07 & 2.050278e-07 & 2.824129e-08 & 1.705089e-09 & 1.373726e-11 & 0           \\\\\n",
       "\\end{tabular}\n"
      ],
      "text/markdown": [
       "\n",
       "| 0            | 0.001267081  | 0.009434396  | 0.02961313   | 0.06523298   | 0.1183115    | 0.1896952    | 0.2792743    | 0.3861728    | 0.5089171    | ...          | 5.089171e-05 | 2.30662e-05  | 9.359912e-06 | 3.286469e-06 | 9.470994e-07 | 2.050278e-07 | 2.824129e-08 | 1.705089e-09 | 1.373726e-11 | 0            |\n",
       "\n"
      ],
      "text/plain": [
       "     [,1] [,2]        [,3]        [,4]       [,5]       [,6]      [,7]     \n",
       "[1,] 0    0.001267081 0.009434396 0.02961313 0.06523298 0.1183115 0.1896952\n",
       "     [,8]      [,9]      [,10]     [,11] [,12]        [,13]       [,14]       \n",
       "[1,] 0.2792743 0.3861728 0.5089171 ...   5.089171e-05 2.30662e-05 9.359912e-06\n",
       "     [,15]        [,16]        [,17]        [,18]        [,19]       \n",
       "[1,] 3.286469e-06 9.470994e-07 2.050278e-07 2.824129e-08 1.705089e-09\n",
       "     [,20]        [,21]\n",
       "[1,] 1.373726e-11 0    "
      ]
     },
     "metadata": {},
     "output_type": "display_data"
    }
   ],
   "source": [
    "post.den <- dbeta(theta, alpha + x, beta + n - x)\n",
    "t(post.den)\n",
    "# 사후분포"
   ]
  },
  {
   "cell_type": "code",
   "execution_count": 7,
   "id": "b577107dac21eb39",
   "metadata": {
    "ExecuteTime": {
     "end_time": "2024-10-05T13:55:37.451545Z",
     "start_time": "2024-10-05T13:55:37.431269Z"
    }
   },
   "outputs": [
    {
     "data": {
      "text/html": [
       "<table>\n",
       "<tbody>\n",
       "\t<tr><td>0           </td><td>0.00127988  </td><td>0.009529692 </td><td>0.02991225  </td><td>0.06589189  </td><td>0.1195066   </td><td>0.1916113   </td><td>0.2820952   </td><td>0.3900735   </td><td>0.5140577   </td><td>...         </td><td>5.140577e-05</td><td>2.329919e-05</td><td>9.454455e-06</td><td>3.319666e-06</td><td>9.56666e-07 </td><td>2.070988e-07</td><td>2.852655e-08</td><td>1.722312e-09</td><td>1.387602e-11</td><td>0           </td></tr>\n",
       "</tbody>\n",
       "</table>\n"
      ],
      "text/latex": [
       "\\begin{tabular}{llllllllllllllllllllllllllllllllllllllllllllllllllllllllllllllllllllllllllllllllllllllllllllllllllll}\n",
       "\t 0            & 0.00127988   & 0.009529692  & 0.02991225   & 0.06589189   & 0.1195066    & 0.1916113    & 0.2820952    & 0.3900735    & 0.5140577    & ...          & 5.140577e-05 & 2.329919e-05 & 9.454455e-06 & 3.319666e-06 & 9.56666e-07  & 2.070988e-07 & 2.852655e-08 & 1.722312e-09 & 1.387602e-11 & 0           \\\\\n",
       "\\end{tabular}\n"
      ],
      "text/markdown": [
       "\n",
       "| 0            | 0.00127988   | 0.009529692  | 0.02991225   | 0.06589189   | 0.1195066    | 0.1916113    | 0.2820952    | 0.3900735    | 0.5140577    | ...          | 5.140577e-05 | 2.329919e-05 | 9.454455e-06 | 3.319666e-06 | 9.56666e-07  | 2.070988e-07 | 2.852655e-08 | 1.722312e-09 | 1.387602e-11 | 0            |\n",
       "\n"
      ],
      "text/plain": [
       "     [,1] [,2]       [,3]        [,4]       [,5]       [,6]      [,7]     \n",
       "[1,] 0    0.00127988 0.009529692 0.02991225 0.06589189 0.1195066 0.1916113\n",
       "     [,8]      [,9]      [,10]     [,11] [,12]        [,13]        [,14]       \n",
       "[1,] 0.2820952 0.3900735 0.5140577 ...   5.140577e-05 2.329919e-05 9.454455e-06\n",
       "     [,15]        [,16]       [,17]        [,18]        [,19]       \n",
       "[1,] 3.319666e-06 9.56666e-07 2.070988e-07 2.852655e-08 1.722312e-09\n",
       "     [,20]        [,21]\n",
       "[1,] 1.387602e-11 0    "
      ]
     },
     "metadata": {},
     "output_type": "display_data"
    }
   ],
   "source": [
    "likelihood <- dbinom(x, size = n, prob = theta)\n",
    "likelihood <- 100 * likelihood / sum(likelihood)\n",
    "t(likelihood)"
   ]
  },
  {
   "cell_type": "code",
   "execution_count": 8,
   "id": "5360bdd7ab7db68d",
   "metadata": {
    "ExecuteTime": {
     "end_time": "2024-10-05T13:55:38.044705Z",
     "start_time": "2024-10-05T13:55:38.035677Z"
    }
   },
   "outputs": [
    {
     "name": "stderr",
     "output_type": "stream",
     "text": [
      "Your code contains a unicode char which cannot be displayed in your\n",
      "current locale and R will silently convert it to an escaped form when the\n",
      "R kernel executes this code. This can lead to subtle errors if you use\n",
      "such chars to do comparisons. For more information, please see\n",
      "https://github.com/IRkernel/repr/wiki/Problems-with-unicode-on-windows"
     ]
    }
   ],
   "source": [
    "# 세 개의 그림을 따로 따로 그려본다"
   ]
  },
  {
   "cell_type": "code",
   "execution_count": 9,
   "id": "58cdd8a11ee9729d",
   "metadata": {
    "ExecuteTime": {
     "end_time": "2024-10-05T13:55:38.638159Z",
     "start_time": "2024-10-05T13:55:38.600583Z"
    }
   },
   "outputs": [
    {
     "data": {
      "image/png": "[encoded data removed]",
      "text/plain": [
       "plot without title"
      ]
     },
     "metadata": {},
     "output_type": "display_data"
    }
   ],
   "source": [
    "par(mfrow = c(2, 2))\n",
    "plot(theta, prior.den, type = 'l', ylab = 'prior density')\n",
    "plot(theta, likelihood, type = 'l', ylab = 'likelihood')\n",
    "plot(theta, post.den, type = 'l', ylab = 'posterior density')"
   ]
  },
  {
   "cell_type": "code",
   "execution_count": 10,
   "id": "6260cd12d12fd778",
   "metadata": {
    "ExecuteTime": {
     "end_time": "2024-10-05T13:55:39.319368Z",
     "start_time": "2024-10-05T13:55:39.306339Z"
    }
   },
   "outputs": [
    {
     "name": "stderr",
     "output_type": "stream",
     "text": [
      "Your code contains a unicode char which cannot be displayed in your\n",
      "current locale and R will silently convert it to an escaped form when the\n",
      "R kernel executes this code. This can lead to subtle errors if you use\n",
      "such chars to do comparisons. For more information, please see\n",
      "https://github.com/IRkernel/repr/wiki/Problems-with-unicode-on-windows"
     ]
    }
   ],
   "source": [
    "# 세 개의 그림을 한 윈도우에 그린다"
   ]
  },
  {
   "cell_type": "code",
   "execution_count": 11,
   "id": "e2e204f74cae2433",
   "metadata": {
    "ExecuteTime": {
     "end_time": "2024-10-05T13:55:39.974423Z",
     "start_time": "2024-10-05T13:55:39.962400Z"
    }
   },
   "outputs": [
    {
     "data": {
      "text/html": [
       "2.9641087968795"
      ],
      "text/latex": [
       "2.9641087968795"
      ],
      "text/markdown": [
       "2.9641087968795"
      ],
      "text/plain": [
       "[1] 2.964109"
      ]
     },
     "metadata": {},
     "output_type": "display_data"
    }
   ],
   "source": [
    "ymax <- max(prior.den, likelihood, post.den)\n",
    "ymax"
   ]
  },
  {
   "cell_type": "code",
   "execution_count": 12,
   "id": "f10d4e23be156be9",
   "metadata": {
    "ExecuteTime": {
     "end_time": "2024-10-05T13:55:40.760672Z",
     "start_time": "2024-10-05T13:55:40.719257Z"
    }
   },
   "outputs": [
    {
     "data": {
      "image/png": "[encoded data removed]",
      "text/plain": [
       "plot without title"
      ]
     },
     "metadata": {},
     "output_type": "display_data"
    }
   ],
   "source": [
    "plot(theta, post.den, type='l', ylab='density', ylim=c(0, ymax))\n",
    "lines(theta, prior.den, col=\"magenta\")\n",
    "lines(theta, likelihood, col=\"cyan\")\n",
    "legend(0.6,2.8, c(\"posterior\",\"prior\", \"likelihood\"), lty=c(1,1,1), lwd=c(2.5,2.5),col=c(\"black\",\"magenta\",\"cyan\"))"
   ]
  },
  {
   "cell_type": "code",
   "execution_count": null,
   "id": "35e75b883c260e7f",
   "metadata": {},
   "outputs": [],
   "source": []
  }
 ],
 "metadata": {
  "kernelspec": {
   "display_name": "R",
   "language": "R",
   "name": "ir"
  },
  "language_info": {
   "codemirror_mode": "r",
   "file_extension": ".r",
   "mimetype": "text/x-r-source",
   "name": "R",
   "pygments_lexer": "r",
   "version": "3.6.1"
  }
 },
 "nbformat": 4,
 "nbformat_minor": 5
}
