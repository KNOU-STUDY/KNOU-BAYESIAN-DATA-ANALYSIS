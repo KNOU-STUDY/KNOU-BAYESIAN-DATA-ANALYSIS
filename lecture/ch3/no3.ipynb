{
 "cells": [
  {
   "cell_type": "code",
   "id": "1a15c191-7d6f-4e36-9d82-48eef901c697",
   "metadata": {
    "ExecuteTime": {
     "end_time": "2024-10-05T14:10:51.757604Z",
     "start_time": "2024-10-05T14:10:51.744072Z"
    }
   },
   "source": "# 위에 주어진 모형에 대하여, 사후분포의 평균, 중앙값, 최빈값, 표준편차, 2.5%와 97.5% 백분위수를 구하시오",
   "outputs": [
    {
     "name": "stderr",
     "output_type": "stream",
     "text": [
      "Your code contains a unicode char which cannot be displayed in your\n",
      "current locale and R will silently convert it to an escaped form when the\n",
      "R kernel executes this code. This can lead to subtle errors if you use\n",
      "such chars to do comparisons. For more information, please see\n",
      "https://github.com/IRkernel/repr/wiki/Problems-with-unicode-on-windows"
     ]
    }
   ],
   "execution_count": 1
  },
  {
   "metadata": {},
   "cell_type": "markdown",
   "source": "![조건](./img/question.png)",
   "id": "237c2674127e1e4d"
  },
  {
   "metadata": {
    "ExecuteTime": {
     "end_time": "2024-10-05T14:10:53.657179Z",
     "start_time": "2024-10-05T14:10:53.603009Z"
    }
   },
   "cell_type": "code",
   "source": [
    "post.summary <- numeric(6)\n",
    "post.summary"
   ],
   "id": "7afa919152414d1a",
   "outputs": [
    {
     "data": {
      "text/html": [
       "<ol class=list-inline>\n",
       "\t<li>0</li>\n",
       "\t<li>0</li>\n",
       "\t<li>0</li>\n",
       "\t<li>0</li>\n",
       "\t<li>0</li>\n",
       "\t<li>0</li>\n",
       "</ol>\n"
      ],
      "text/markdown": "1. 0\n2. 0\n3. 0\n4. 0\n5. 0\n6. 0\n\n\n",
      "text/latex": "\\begin{enumerate*}\n\\item 0\n\\item 0\n\\item 0\n\\item 0\n\\item 0\n\\item 0\n\\end{enumerate*}\n",
      "text/plain": [
       "[1] 0 0 0 0 0 0"
      ]
     },
     "metadata": {},
     "output_type": "display_data"
    }
   ],
   "execution_count": 2
  },
  {
   "metadata": {
    "ExecuteTime": {
     "end_time": "2024-10-05T14:10:54.392038Z",
     "start_time": "2024-10-05T14:10:54.379498Z"
    }
   },
   "cell_type": "code",
   "source": [
    "names(post.summary) <- c(\"post mean\", \"post median\", \"MAP\", \"post sd\", \"2.5%\", \"97.5%\")\n",
    "post.summary"
   ],
   "id": "5da9fadb15d05bfa",
   "outputs": [
    {
     "data": {
      "text/html": [
       "<dl class=dl-horizontal>\n",
       "\t<dt>post mean</dt>\n",
       "\t\t<dd>0</dd>\n",
       "\t<dt>post median</dt>\n",
       "\t\t<dd>0</dd>\n",
       "\t<dt>MAP</dt>\n",
       "\t\t<dd>0</dd>\n",
       "\t<dt>post sd</dt>\n",
       "\t\t<dd>0</dd>\n",
       "\t<dt>2.5%</dt>\n",
       "\t\t<dd>0</dd>\n",
       "\t<dt>97.5%</dt>\n",
       "\t\t<dd>0</dd>\n",
       "</dl>\n"
      ],
      "text/markdown": "post mean\n:   0post median\n:   0MAP\n:   0post sd\n:   02.5%\n:   097.5%\n:   0\n\n",
      "text/latex": "\\begin{description*}\n\\item[post mean] 0\n\\item[post median] 0\n\\item[MAP] 0\n\\item[post sd] 0\n\\item[2.5\\textbackslash{}\\%] 0\n\\item[97.5\\textbackslash{}\\%] 0\n\\end{description*}\n",
      "text/plain": [
       "  post mean post median         MAP     post sd        2.5%       97.5% \n",
       "          0           0           0           0           0           0 "
      ]
     },
     "metadata": {},
     "output_type": "display_data"
    }
   ],
   "execution_count": 3
  },
  {
   "metadata": {
    "ExecuteTime": {
     "end_time": "2024-10-05T14:10:55.627529Z",
     "start_time": "2024-10-05T14:10:55.613999Z"
    }
   },
   "cell_type": "code",
   "source": [
    "class(post.summary)\n",
    "typeof(post.summary)"
   ],
   "id": "2cf37a950bb3876c",
   "outputs": [
    {
     "data": {
      "text/html": [
       "'numeric'"
      ],
      "text/markdown": "'numeric'",
      "text/latex": "'numeric'",
      "text/plain": [
       "[1] \"numeric\""
      ]
     },
     "metadata": {},
     "output_type": "display_data"
    },
    {
     "data": {
      "text/html": [
       "'double'"
      ],
      "text/markdown": "'double'",
      "text/latex": "'double'",
      "text/plain": [
       "[1] \"double\""
      ]
     },
     "metadata": {},
     "output_type": "display_data"
    }
   ],
   "execution_count": 4
  },
  {
   "metadata": {
    "ExecuteTime": {
     "end_time": "2024-10-05T14:11:43.465922Z",
     "start_time": "2024-10-05T14:11:43.454347Z"
    }
   },
   "cell_type": "code",
   "source": [
    "alpha <- 1\n",
    "beta <- 1\n",
    "n <- 10\n",
    "x <- 3"
   ],
   "id": "46d5dc5443e78482",
   "outputs": [],
   "execution_count": 5
  },
  {
   "metadata": {
    "ExecuteTime": {
     "end_time": "2024-10-05T19:29:05.677854Z",
     "start_time": "2024-10-05T19:29:05.661802Z"
    }
   },
   "cell_type": "code",
   "source": [
    "post.summary['post mean'] <- (alpha + x) / (alpha + beta + n)\n",
    "post.summary['post median'] <- pbeta(0.5, alpha + x, beta + n - x)\n",
    "post.summary['MAP'] <- (alpha + x - 1) / (alpha + beta + n - 2)\n",
    "post.summary['post sd'] <- sqrt((alpha + x) * (beta + n - x) / ((alpha + beta + n)^2 * (alpha + beta + n + 1)))\n",
    "post.summary['2.5%'] <- qbeta(0.025, alpha + x, beta + n - x)\n",
    "post.summary['97.5%'] <- qbeta(0.975, alpha + x, beta + n - x)"
   ],
   "id": "2b0b660cb4c21de1",
   "outputs": [],
   "execution_count": 6
  },
  {
   "metadata": {
    "ExecuteTime": {
     "end_time": "2024-10-05T19:29:12.806022Z",
     "start_time": "2024-10-05T19:29:12.793787Z"
    }
   },
   "cell_type": "code",
   "source": "post.summary",
   "id": "f4eba42c07cd41f",
   "outputs": [
    {
     "data": {
      "text/html": [
       "<dl class=dl-horizontal>\n",
       "\t<dt>post mean</dt>\n",
       "\t\t<dd>0.333333333333333</dd>\n",
       "\t<dt>post median</dt>\n",
       "\t\t<dd>0.88671875</dd>\n",
       "\t<dt>MAP</dt>\n",
       "\t\t<dd>0.3</dd>\n",
       "\t<dt>post sd</dt>\n",
       "\t\t<dd>0.130744090092123</dd>\n",
       "\t<dt>2.5%</dt>\n",
       "\t\t<dd>0.109263443819098</dd>\n",
       "\t<dt>97.5%</dt>\n",
       "\t\t<dd>0.609742559572421</dd>\n",
       "</dl>\n"
      ],
      "text/markdown": "post mean\n:   0.333333333333333post median\n:   0.88671875MAP\n:   0.3post sd\n:   0.1307440900921232.5%\n:   0.10926344381909897.5%\n:   0.609742559572421\n\n",
      "text/latex": "\\begin{description*}\n\\item[post mean] 0.333333333333333\n\\item[post median] 0.88671875\n\\item[MAP] 0.3\n\\item[post sd] 0.130744090092123\n\\item[2.5\\textbackslash{}\\%] 0.109263443819098\n\\item[97.5\\textbackslash{}\\%] 0.609742559572421\n\\end{description*}\n",
      "text/plain": [
       "  post mean post median         MAP     post sd        2.5%       97.5% \n",
       "  0.3333333   0.8867188   0.3000000   0.1307441   0.1092634   0.6097426 "
      ]
     },
     "metadata": {},
     "output_type": "display_data"
    }
   ],
   "execution_count": 7
  },
  {
   "metadata": {
    "ExecuteTime": {
     "end_time": "2024-10-05T19:39:29.086699Z",
     "start_time": "2024-10-05T19:39:29.071189Z"
    }
   },
   "cell_type": "code",
   "source": [
    "calc <- function(x, y, fn) {\n",
    "  return(fn(x, y))\n",
    "}"
   ],
   "id": "70fcd9dc4bf70572",
   "outputs": [],
   "execution_count": 8
  },
  {
   "metadata": {
    "ExecuteTime": {
     "end_time": "2024-10-05T19:41:24.527209Z",
     "start_time": "2024-10-05T19:41:24.508159Z"
    }
   },
   "cell_type": "code",
   "source": [
    "post.summary['post mean'] <- calc(alpha + x, alpha + beta + n, function(x, y)x / y)\n",
    "post.summary['post mean']"
   ],
   "id": "fbe3187c8a2ba0a0",
   "outputs": [
    {
     "data": {
      "text/html": [
       "<strong>post mean:</strong> 0.333333333333333"
      ],
      "text/markdown": "**post mean:** 0.333333333333333",
      "text/latex": "\\textbf{post mean:} 0.333333333333333",
      "text/plain": [
       "post mean \n",
       "0.3333333 "
      ]
     },
     "metadata": {},
     "output_type": "display_data"
    }
   ],
   "execution_count": 11
  },
  {
   "metadata": {},
   "cell_type": "code",
   "outputs": [],
   "execution_count": null,
   "source": "",
   "id": "dbc1992e4f8f7677"
  }
 ],
 "metadata": {
  "kernelspec": {
   "display_name": "R",
   "language": "R",
   "name": "ir"
  },
  "language_info": {
   "codemirror_mode": "r",
   "file_extension": ".r",
   "mimetype": "text/x-r-source",
   "name": "R",
   "pygments_lexer": "r",
   "version": "3.6.1"
  }
 },
 "nbformat": 4,
 "nbformat_minor": 5
}
